{
  "nbformat": 4,
  "nbformat_minor": 0,
  "metadata": {
    "colab": {
      "name": "Adaline_BGD_vs_SGD.ipynb",
      "provenance": [],
      "collapsed_sections": [],
      "authorship_tag": "ABX9TyP259zOAMD9BajD3Ynr4f25",
      "include_colab_link": true
    },
    "kernelspec": {
      "name": "python3",
      "display_name": "Python 3"
    }
  },
  "cells": [
    {
      "cell_type": "markdown",
      "metadata": {
        "id": "view-in-github",
        "colab_type": "text"
      },
      "source": [
        "<a href=\"https://colab.research.google.com/github/ibribr/DT8807/blob/master/Adaline_BGD_vs_SGD.ipynb\" target=\"_parent\"><img src=\"https://colab.research.google.com/assets/colab-badge.svg\" alt=\"Open In Colab\"/></a>"
      ]
    },
    {
      "cell_type": "markdown",
      "metadata": {
        "id": "yXzWdML-7nEN"
      },
      "source": [
        "Adaptive linear neuron (Adaline) - compare between Batch Gradient Desent (BGD) - and - Stochastic Grdient Desent (SGD) - IRIS data set"
      ]
    },
    {
      "cell_type": "code",
      "metadata": {
        "id": "p-dQksWiQwOU",
        "colab": {
          "base_uri": "https://localhost:8080/",
          "height": 51
        },
        "outputId": "4095fb24-3bf2-48d7-de39-39e6a1d25b05"
      },
      "source": [
        "import numpy as np\n",
        "import pandas as pd\n",
        "import matplotlib.pyplot as plt\n",
        "from numpy import random\n",
        "import seaborn as sns"
      ],
      "execution_count": null,
      "outputs": [
        {
          "output_type": "stream",
          "text": [
            "/usr/local/lib/python3.6/dist-packages/statsmodels/tools/_testing.py:19: FutureWarning: pandas.util.testing is deprecated. Use the functions in the public API at pandas.testing instead.\n",
            "  import pandas.util.testing as tm\n"
          ],
          "name": "stderr"
        }
      ]
    },
    {
      "cell_type": "code",
      "metadata": {
        "id": "ODXioXDYQpTx",
        "colab": {
          "base_uri": "https://localhost:8080/",
          "height": 119
        },
        "outputId": "eb1d73cb-7571-4465-81ef-1415f2f44234"
      },
      "source": [
        "# Load IRIS data\n",
        "df = pd.read_csv('https://archive.ics.uci.edu/ml/machine-learning-databases/iris/iris.data', header=None)\n",
        "print(df.tail())"
      ],
      "execution_count": null,
      "outputs": [
        {
          "output_type": "stream",
          "text": [
            "       0    1    2    3               4\n",
            "145  6.7  3.0  5.2  2.3  Iris-virginica\n",
            "146  6.3  2.5  5.0  1.9  Iris-virginica\n",
            "147  6.5  3.0  5.2  2.0  Iris-virginica\n",
            "148  6.2  3.4  5.4  2.3  Iris-virginica\n",
            "149  5.9  3.0  5.1  1.8  Iris-virginica\n"
          ],
          "name": "stdout"
        }
      ]
    },
    {
      "cell_type": "code",
      "metadata": {
        "id": "Js8Ok7PSgEFx",
        "colab": {
          "base_uri": "https://localhost:8080/",
          "height": 51
        },
        "outputId": "e32ea83a-cfe0-4558-d56d-71f762cf3056"
      },
      "source": [
        "# extract 2 features and first 100 class labels (50 iris-setosa and 50 iris-versicolor)\n",
        "x = df.iloc[0:100, [0, 2]].values\n",
        "y = df.iloc[0:100,4].values\n",
        "y =np.where(y=='Iris-setosa',1, -1)\n",
        "\n",
        "# feature scaling\n",
        "xn=(x-x.mean(axis=0))/x.std(axis=0)\n",
        "#print(xn)\n",
        "#print(y)\n",
        "print(len(x))\n",
        "\n",
        "print('y=',y[0])\n"
      ],
      "execution_count": null,
      "outputs": [
        {
          "output_type": "stream",
          "text": [
            "100\n",
            "y= 1\n"
          ],
          "name": "stdout"
        }
      ]
    },
    {
      "cell_type": "code",
      "metadata": {
        "id": "nP0Byre-PVNd"
      },
      "source": [
        "class adaline(object):\n",
        "  def __init__(self, epochs=100, eta=0.1):\n",
        "    self.epochs = epochs\n",
        "    self.eta = eta\n",
        "\n",
        "  def train(self, training_inputs, training_labels, mode='BGD'):\n",
        "    x = training_inputs\n",
        "    t = training_labels\n",
        "    self.cost = []   # to plot cost function over epochs\n",
        "    self.w = random.rand(training_inputs.ndim+1)\n",
        "    for i in range(self.epochs):\n",
        "      if mode=='BGD':\n",
        "        net = np.dot(x, self.w[1:])+self.w[0]\n",
        "        y = net  #linear activation function\n",
        "        error = (t - y)   # this is vector\n",
        "        #update weights using sum of gradients\n",
        "        self.w[1:] += self.eta *  (np.dot(error, x)).mean()\n",
        "        self.w[0] += self.eta * error.mean()\n",
        "        cost = 0.5 * (error**2).sum()\n",
        "        self.cost.append(cost)\n",
        "      elif mode=='SGD':\n",
        "        cost = 0\n",
        "        for j in range(len(x)):\n",
        "          net = np.dot(x[j,:],self.w[1:])+self.w[0]\n",
        "          y = net\n",
        "          error = (t[j]-y)\n",
        "          #update the weights using SGD\n",
        "          self.w[1:] += self.eta * np.dot(error, x[j,:])\n",
        "          self.w[0] += self.eta * error\n",
        "          cost += error**2;\n",
        "        self.cost.append(cost/len(x))\n",
        "    return self\n",
        "  \n",
        "  def predict(self, inputs):\n",
        "    net=np.dot(inputs, self.w[1:])+self.w[0]\n",
        "    return(np.where(net>=0, 1, -1)) "
      ],
      "execution_count": null,
      "outputs": []
    },
    {
      "cell_type": "code",
      "metadata": {
        "id": "cq3JmyxNTJvr",
        "colab": {
          "base_uri": "https://localhost:8080/",
          "height": 295
        },
        "outputId": "f6547b9a-4387-46ea-ad4b-fdec19dae88b"
      },
      "source": [
        "model=adaline(epochs=10, eta=0.1)\n",
        "model.train(xn, y, mode='SGD')     # training mode ='BGD' or 'SGD'\n",
        "predictions = model.predict(xn)\n",
        "\n",
        "printout = 0\n",
        "if printout:\n",
        "  print(model.cost)\n",
        "  print(model.w)\n",
        "  print(predictions)\n",
        "\n",
        "plt.plot(range(1,len(model.cost)+1), model.cost, marker='o')\n",
        "plt.xlabel('Epochs')\n",
        "plt.ylabel('Error')\n",
        "plt.title('Training Error')\n",
        "plt.grid()\n",
        "plt.show()"
      ],
      "execution_count": null,
      "outputs": [
        {
          "output_type": "display_data",
          "data": {
            "image/png": "[encoded data removed]",
            "text/plain": [
              "<Figure size 432x288 with 1 Axes>"
            ]
          },
          "metadata": {
            "tags": [],
            "needs_background": "light"
          }
        }
      ]
    },
    {
      "cell_type": "code",
      "metadata": {
        "id": "HfSvR2YzbTl-",
        "colab": {
          "base_uri": "https://localhost:8080/",
          "height": 279
        },
        "outputId": "7cebad05-e887-4224-e94a-173a5e809472"
      },
      "source": [
        "# scatter plot of predictions\n",
        "plt.scatter(xn[predictions==1,0], xn[predictions==1,1], color='red', marker='o', label='setosa')\n",
        "plt.scatter(xn[predictions==-1,0], xn[predictions==-1,1], color='blue', marker='x', label='versicolor')\n",
        "# decsion line\n",
        "xx1 = np.arange(xn[:,0].min()-2, xn[:,0].max()+2, 0.1)\n",
        "xx2 = -model.w[1]/model.w[2] * xx1 - model.w[0]/model.w[2]\n",
        "plt.plot(xx1, xx2, 'g--')\n",
        "plt.xlabel('Sepal length [cm]')\n",
        "plt.ylabel('Petal length [cm]')\n",
        "plt.legend(loc='upper left')\n",
        "plt.grid()\n",
        "plt.show()"
      ],
      "execution_count": null,
      "outputs": [
        {
          "output_type": "display_data",
          "data": {
            "image/png": "[encoded data removed]",
            "text/plain": [
              "<Figure size 432x288 with 1 Axes>"
            ]
          },
          "metadata": {
            "tags": [],
            "needs_background": "light"
          }
        }
      ]
    }
  ]
}