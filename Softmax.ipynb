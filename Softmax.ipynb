{
  "nbformat": 4,
  "nbformat_minor": 0,
  "metadata": {
    "colab": {
      "name": "Softmax.ipynb",
      "provenance": [],
      "authorship_tag": "ABX9TyNB58BqUWJ9EcUuJSet9I8v",
      "include_colab_link": true
    },
    "kernelspec": {
      "name": "python3",
      "display_name": "Python 3"
    }
  },
  "cells": [
    {
      "cell_type": "markdown",
      "metadata": {
        "id": "view-in-github",
        "colab_type": "text"
      },
      "source": [
        "<a href=\"https://colab.research.google.com/github/ibribr/DT8807/blob/master/Softmax.ipynb\" target=\"_parent\"><img src=\"https://colab.research.google.com/assets/colab-badge.svg\" alt=\"Open In Colab\"/></a>"
      ]
    },
    {
      "cell_type": "code",
      "metadata": {
        "id": "RqPYePWFyS7c"
      },
      "source": [
        "import numpy as np "
      ],
      "execution_count": 1,
      "outputs": []
    },
    {
      "cell_type": "code",
      "metadata": {
        "id": "xbY9zZpkyePI"
      },
      "source": [
        "def softmax(z):\r\n",
        "  softm = np.exp(z)/sum(np.exp(z))\r\n",
        "  return softm"
      ],
      "execution_count": 8,
      "outputs": []
    },
    {
      "cell_type": "code",
      "metadata": {
        "colab": {
          "base_uri": "https://localhost:8080/"
        },
        "id": "ruFsFaqIy4ox",
        "outputId": "90d25389-26dd-421b-a75e-ba8d840ff42a"
      },
      "source": [
        "z = [8, 5, 0]  #outputs from a machine learning model\r\n",
        "softm = softmax(z)\r\n",
        "print('Probability distribution:')\r\n",
        "for i in zip(z, softm):\r\n",
        "  print(i)"
      ],
      "execution_count": 29,
      "outputs": [
        {
          "output_type": "stream",
          "text": [
            "Probability distribution:\n",
            "(8, 0.9522698261237778)\n",
            "(5, 0.04741072293787844)\n",
            "(0, 0.0003194509383437505)\n"
          ],
          "name": "stdout"
        }
      ]
    }
  ]
}