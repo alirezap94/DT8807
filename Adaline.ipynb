{
  "nbformat": 4,
  "nbformat_minor": 0,
  "metadata": {
    "colab": {
      "name": "Adaline.ipynb",
      "provenance": [],
      "collapsed_sections": [],
      "authorship_tag": "ABX9TyPo0Ow0uYy4e+5MbQEup6hg",
      "include_colab_link": true
    },
    "kernelspec": {
      "name": "python3",
      "display_name": "Python 3"
    }
  },
  "cells": [
    {
      "cell_type": "markdown",
      "metadata": {
        "id": "view-in-github",
        "colab_type": "text"
      },
      "source": [
        "<a href=\"https://colab.research.google.com/github/ibribr/DT8807/blob/master/Adaline.ipynb\" target=\"_parent\"><img src=\"https://colab.research.google.com/assets/colab-badge.svg\" alt=\"Open In Colab\"/></a>"
      ]
    },
    {
      "cell_type": "markdown",
      "metadata": {
        "id": "yXzWdML-7nEN"
      },
      "source": [
        "Adaptive linear neuron (Adaline) - gradient descent - exmple - Ibrahim 22.08.2020"
      ]
    },
    {
      "cell_type": "code",
      "metadata": {
        "id": "p-dQksWiQwOU"
      },
      "source": [
        "import numpy as np\n",
        "import pandas as pd\n",
        "import matplotlib.pyplot as plt\n",
        "from numpy import random"
      ],
      "execution_count": null,
      "outputs": []
    },
    {
      "cell_type": "code",
      "metadata": {
        "id": "ODXioXDYQpTx",
        "colab": {
          "base_uri": "https://localhost:8080/",
          "height": 119
        },
        "outputId": "0ec1213b-1601-44ff-ea7e-7b9fb2f52d59"
      },
      "source": [
        "# Load IRIS data\n",
        "df = pd.read_csv('https://archive.ics.uci.edu/ml/machine-learning-databases/iris/iris.data', header=None)\n",
        "print(df.tail())"
      ],
      "execution_count": null,
      "outputs": [
        {
          "output_type": "stream",
          "text": [
            "       0    1    2    3               4\n",
            "145  6.7  3.0  5.2  2.3  Iris-virginica\n",
            "146  6.3  2.5  5.0  1.9  Iris-virginica\n",
            "147  6.5  3.0  5.2  2.0  Iris-virginica\n",
            "148  6.2  3.4  5.4  2.3  Iris-virginica\n",
            "149  5.9  3.0  5.1  1.8  Iris-virginica\n"
          ],
          "name": "stdout"
        }
      ]
    },
    {
      "cell_type": "code",
      "metadata": {
        "id": "Js8Ok7PSgEFx",
        "colab": {
          "base_uri": "https://localhost:8080/",
          "height": 119
        },
        "outputId": "90d0dac1-9d5f-48cc-dbff-b4b1e209dbeb"
      },
      "source": [
        "# extract first 100 class labels (50 iris-setosa and 50 iris-versicolor)\n",
        "x = df.iloc[0:100, [0, 2]].values\n",
        "y = df.iloc[0:100,4].values\n",
        "y =np.where(y=='Iris-setosa',1, -1)\n",
        "print(y)\n",
        "print(len(x))"
      ],
      "execution_count": null,
      "outputs": [
        {
          "output_type": "stream",
          "text": [
            "[ 1  1  1  1  1  1  1  1  1  1  1  1  1  1  1  1  1  1  1  1  1  1  1  1\n",
            "  1  1  1  1  1  1  1  1  1  1  1  1  1  1  1  1  1  1  1  1  1  1  1  1\n",
            "  1  1 -1 -1 -1 -1 -1 -1 -1 -1 -1 -1 -1 -1 -1 -1 -1 -1 -1 -1 -1 -1 -1 -1\n",
            " -1 -1 -1 -1 -1 -1 -1 -1 -1 -1 -1 -1 -1 -1 -1 -1 -1 -1 -1 -1 -1 -1 -1 -1\n",
            " -1 -1 -1 -1]\n",
            "100\n"
          ],
          "name": "stdout"
        }
      ]
    },
    {
      "cell_type": "code",
      "metadata": {
        "id": "nP0Byre-PVNd"
      },
      "source": [
        "class adaline(object):\n",
        "  def __init__(self, epochs=100, eta=0.1):\n",
        "    self.epochs = epochs\n",
        "    self.eta = eta\n",
        "\n",
        "  def train(self, training_inputs, training_labels):\n",
        "    x = training_inputs\n",
        "    t = training_labels\n",
        "    self.cost = []   # to plot cost function over epochs\n",
        "    self.w = random.rand(training_inputs.ndim+1)\n",
        "    for i in range(self.epochs):\n",
        "      net = np.dot(x, self.w[1:])+self.w[0]\n",
        "      y = net  #linear activation function\n",
        "      error = (t - y)   # this is vector\n",
        "      #update weights using sum of gradients\n",
        "      self.w[1:] += self.eta *  (np.dot(error, x)).mean()\n",
        "      self.w[0] += self.eta * error.mean()\n",
        "      cost = 0.5 * (error**2).sum()\n",
        "      self.cost.append(cost)\n",
        "    return self\n",
        "  \n",
        "  def predict(self, inputs):\n",
        "    net=np.dot(inputs, self.w[1:])+self.w[0]\n",
        "    return(np.where(net>=0, 1, -1)) "
      ],
      "execution_count": null,
      "outputs": []
    },
    {
      "cell_type": "code",
      "metadata": {
        "id": "cq3JmyxNTJvr",
        "colab": {
          "base_uri": "https://localhost:8080/",
          "height": 434
        },
        "outputId": "430222d2-15b2-41e0-dfd1-6d348da9f0a3"
      },
      "source": [
        "model=adaline(epochs=10, eta=0.0001)\n",
        "model.train(x, y)\n",
        "predictions = model.predict(x)\n",
        "\n",
        "print(model.cost)\n",
        "print(model.w)\n",
        "print(predictions)\n",
        "\n",
        "plt.plot(range(1,len(model.cost)+1), model.cost, marker='o')\n",
        "plt.xlabel('Epochs')\n",
        "plt.ylabel('Error')\n",
        "plt.title('Training Error')\n",
        "plt.grid()\n",
        "plt.show()"
      ],
      "execution_count": null,
      "outputs": [
        {
          "output_type": "stream",
          "text": [
            "[1598.7581516600821, 654.9040866039497, 276.9391098993128, 125.58351016355422, 64.97327164389769, 40.70186734452839, 30.982290872726352, 27.089970494792556, 25.531165466156654, 24.906812914411514]\n",
            "[ 0.13000659  0.0900967  -0.24977468]\n",
            "[ 1  1  1  1  1  1  1  1  1  1  1  1  1  1  1  1  1  1  1  1  1  1  1  1\n",
            "  1  1  1  1  1  1  1  1  1  1  1  1  1  1  1  1  1  1  1  1  1  1  1  1\n",
            "  1  1 -1 -1 -1 -1 -1 -1 -1 -1 -1 -1 -1 -1 -1 -1 -1 -1 -1 -1 -1 -1 -1 -1\n",
            " -1 -1 -1 -1 -1 -1 -1 -1 -1 -1 -1 -1 -1 -1 -1 -1 -1 -1 -1 -1 -1 -1 -1 -1\n",
            " -1 -1 -1 -1]\n"
          ],
          "name": "stdout"
        },
        {
          "output_type": "display_data",
          "data": {
            "image/png": "[encoded data removed]",
            "text/plain": [
              "<Figure size 432x288 with 1 Axes>"
            ]
          },
          "metadata": {
            "tags": [],
            "needs_background": "light"
          }
        }
      ]
    },
    {
      "cell_type": "code",
      "metadata": {
        "id": "HfSvR2YzbTl-",
        "colab": {
          "base_uri": "https://localhost:8080/",
          "height": 279
        },
        "outputId": "06a05589-c12b-4c2e-f492-6103bcaf9106"
      },
      "source": [
        "# scatter plot of predictions\n",
        "plt.scatter(x[predictions==1,0], x[predictions==1,1], color='red', marker='o', label='setosa')\n",
        "plt.scatter(x[predictions==-1,0], x[predictions==-1,1], color='blue', marker='x', label='versicolor')\n",
        "# decsion line\n",
        "xx1 = np.arange(x[:,0].min()-2, x[:,0].max()+2, 0.1)\n",
        "xx2 = -model.w[1]/model.w[2] * xx1 - model.w[0]/model.w[2]\n",
        "plt.plot(xx1, xx2, 'g--')\n",
        "plt.xlabel('Sepal length [cm]')\n",
        "plt.ylabel('Petal length [cm]')\n",
        "plt.legend(loc='upper left')\n",
        "plt.grid()\n",
        "plt.show()"
      ],
      "execution_count": null,
      "outputs": [
        {
          "output_type": "display_data",
          "data": {
            "image/png": "[encoded data removed]",
            "text/plain": [
              "<Figure size 432x288 with 1 Axes>"
            ]
          },
          "metadata": {
            "tags": [],
            "needs_background": "light"
          }
        }
      ]
    }
  ]
}