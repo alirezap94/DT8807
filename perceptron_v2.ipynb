{
  "nbformat": 4,
  "nbformat_minor": 0,
  "metadata": {
    "colab": {
      "name": "perceptron_v2.ipynb",
      "provenance": [],
      "collapsed_sections": [],
      "authorship_tag": "ABX9TyPGWaZslA5okJqSU21Rl6un",
      "include_colab_link": true
    },
    "kernelspec": {
      "name": "python3",
      "display_name": "Python 3"
    },
    "accelerator": "GPU"
  },
  "cells": [
    {
      "cell_type": "markdown",
      "metadata": {
        "id": "view-in-github",
        "colab_type": "text"
      },
      "source": [
        "<a href=\"https://colab.research.google.com/github/ibribr/DT8807/blob/master/perceptron_v2.ipynb\" target=\"_parent\"><img src=\"https://colab.research.google.com/assets/colab-badge.svg\" alt=\"Open In Colab\"/></a>"
      ]
    },
    {
      "cell_type": "markdown",
      "metadata": {
        "id": "yXzWdML-7nEN"
      },
      "source": [
        "Perceptron - PLR - IRIS classification problem"
      ]
    },
    {
      "cell_type": "code",
      "metadata": {
        "id": "p-dQksWiQwOU"
      },
      "source": [
        "import numpy as np\n",
        "import pandas as pd\n",
        "import matplotlib.pyplot as plt\n",
        "from sklearn.model_selection import train_test_split"
      ],
      "execution_count": null,
      "outputs": []
    },
    {
      "cell_type": "markdown",
      "metadata": {
        "id": "TYBo9uzz7m7w"
      },
      "source": [
        ""
      ]
    },
    {
      "cell_type": "code",
      "metadata": {
        "id": "6fwYzpTmOSBH"
      },
      "source": [
        "class Perceptron(object):\n",
        "\n",
        "  def __init__(self, no_of_inputs, epochs=100, learning_rate=0.01):\n",
        "        self.epochs = epochs\n",
        "        self.learning_rate = learning_rate\n",
        "        self.weights = np.zeros(no_of_inputs + 1)\n",
        "        self.training_error = []\n",
        "        self.validation_error = []\n",
        "  \n",
        "  def predict(self, inputs):\n",
        "    net = np.dot(inputs, self.weights[1:])+self.weights[0] \n",
        "    # step activation function\n",
        "    if net >= 0:\n",
        "      activation = 1\n",
        "    else:\n",
        "      activation = -1\n",
        "    return activation\n",
        "\n",
        "  def train(self, training_inputs, training_labels, validation_inputs, validation_labels):\n",
        "    for _ in range(self.epochs):\n",
        "      train_error = 0\n",
        "      for inputs, label in zip(training_inputs, training_labels):\n",
        "        prediction = self.predict(inputs)\n",
        "        self.weights[1:] += self.learning_rate * (label - prediction) * inputs\n",
        "        self.weights[0] += self.learning_rate * (label - prediction)\n",
        "        train_error += (label - prediction)**2\n",
        "      self.training_error.append(train_error.mean())\n",
        "      val_error = 0\n",
        "      for inputs, label in zip(validation_inputs, validation_labels):\n",
        "        prediction = self.predict(inputs)\n",
        "        val_error += (label - prediction)**2\n",
        "      self.validation_error.append(val_error.mean())  "
      ],
      "execution_count": null,
      "outputs": []
    },
    {
      "cell_type": "code",
      "metadata": {
        "id": "ODXioXDYQpTx",
        "colab": {
          "base_uri": "https://localhost:8080/"
        },
        "outputId": "4af5af9b-1bd1-4861-ad38-4da53ae7948d"
      },
      "source": [
        "# test perceptron with IRIS data\n",
        "df = pd.read_csv('https://archive.ics.uci.edu/ml/machine-learning-databases/iris/iris.data', header=None)\n",
        "print(df.tail())"
      ],
      "execution_count": null,
      "outputs": [
        {
          "output_type": "stream",
          "text": [
            "       0    1    2    3               4\n",
            "145  6.7  3.0  5.2  2.3  Iris-virginica\n",
            "146  6.3  2.5  5.0  1.9  Iris-virginica\n",
            "147  6.5  3.0  5.2  2.0  Iris-virginica\n",
            "148  6.2  3.4  5.4  2.3  Iris-virginica\n",
            "149  5.9  3.0  5.1  1.8  Iris-virginica\n"
          ],
          "name": "stdout"
        }
      ]
    },
    {
      "cell_type": "code",
      "metadata": {
        "id": "Js8Ok7PSgEFx",
        "colab": {
          "base_uri": "https://localhost:8080/"
        },
        "outputId": "b69ec7cb-22cd-4f62-8e24-8caec8e74434"
      },
      "source": [
        "# extract first 100 class labels (50 iris-setosa and 50 iris-versicolor)\n",
        "# Attribute Information: sepal length, sepal width, petal length, petal width in cm and class (Iris Setosa, Iris Versicolour, and Iris Virginica)\n",
        "x = df.iloc[0:100, [2, 3]].values\n",
        "y = df.iloc[0:100,4].values\n",
        "y =np.where(y=='Iris-setosa',1, -1)\n",
        "print(y)\n",
        "print(x.ndim)\n",
        "print(x.shape)\n",
        "\n",
        "x_train, x_test, y_train, y_test = train_test_split(x, y, test_size=0.3, random_state=42, stratify=y)\n",
        "# divided data into training, validation and testing \n",
        "print(y_test)\n",
        "print(y_train)\n"
      ],
      "execution_count": null,
      "outputs": [
        {
          "output_type": "stream",
          "text": [
            "[ 1  1  1  1  1  1  1  1  1  1  1  1  1  1  1  1  1  1  1  1  1  1  1  1\n",
            "  1  1  1  1  1  1  1  1  1  1  1  1  1  1  1  1  1  1  1  1  1  1  1  1\n",
            "  1  1 -1 -1 -1 -1 -1 -1 -1 -1 -1 -1 -1 -1 -1 -1 -1 -1 -1 -1 -1 -1 -1 -1\n",
            " -1 -1 -1 -1 -1 -1 -1 -1 -1 -1 -1 -1 -1 -1 -1 -1 -1 -1 -1 -1 -1 -1 -1 -1\n",
            " -1 -1 -1 -1]\n",
            "2\n",
            "(100, 2)\n",
            "[-1 -1  1 -1 -1  1  1  1  1 -1  1  1 -1 -1  1  1 -1 -1  1 -1 -1 -1  1  1\n",
            " -1 -1  1  1  1 -1]\n",
            "[ 1  1  1  1  1 -1  1  1  1 -1 -1 -1  1 -1  1 -1 -1 -1 -1  1 -1 -1  1  1\n",
            " -1 -1 -1  1 -1 -1  1 -1  1  1 -1  1  1  1 -1  1  1 -1 -1  1  1 -1  1 -1\n",
            " -1  1  1  1  1 -1 -1  1  1  1 -1 -1  1 -1 -1 -1  1 -1 -1  1 -1 -1]\n"
          ],
          "name": "stdout"
        }
      ]
    },
    {
      "cell_type": "code",
      "metadata": {
        "id": "UW1Oaa9tj-XA",
        "colab": {
          "base_uri": "https://localhost:8080/",
          "height": 312
        },
        "outputId": "3e91ae7d-08ba-4328-8bcc-929979125e9d"
      },
      "source": [
        "# use a peceptron to find a decsion boundary to separate the two classe\n",
        "p = Perceptron(no_of_inputs=2, epochs=20, learning_rate=0.1)\n",
        "p.train(x_train, y_train, x_test, y_test)\n",
        "\n",
        "plt.plot(range(1,len(p.training_error)+1), p.training_error, marker='o', label='training')\n",
        "plt.plot(range(1,len(p.validation_error)+1), p.validation_error, marker='o', label='validation')\n",
        "plt.xlabel('Epochs')\n",
        "plt.ylabel('Error')\n",
        "plt.title('Training Error')\n",
        "plt.legend('top right')\n",
        "plt.grid()\n",
        "plt.show()\n",
        "\n",
        "print(p.weights)    #w[0]=bias w[1:]=weights\n",
        "pred = []\n",
        "for t in x:\n",
        "  pred.append(p.predict(t))"
      ],
      "execution_count": null,
      "outputs": [
        {
          "output_type": "display_data",
          "data": {
            "image/png": "[encoded data removed]",
            "text/plain": [
              "<Figure size 432x288 with 1 Axes>"
            ]
          },
          "metadata": {
            "tags": [],
            "needs_background": "light"
          }
        },
        {
          "output_type": "stream",
          "text": [
            "[ 1.  -0.3 -0.5]\n"
          ],
          "name": "stdout"
        }
      ]
    },
    {
      "cell_type": "code",
      "metadata": {
        "id": "NPzDdt_dDky7"
      },
      "source": [
        "# plot decicion line\n",
        "x1_min, x1_max = x[:,0].min()-1, x[:,0].max()+1\n",
        "xx1 = np.arange(x1_min, x1_max, 0.1)\n",
        "xx2 = -p.weights[1]/p.weights[2] * xx1 - p.weights[0]/p.weights[2]"
      ],
      "execution_count": null,
      "outputs": []
    },
    {
      "cell_type": "code",
      "metadata": {
        "id": "OmuPLo0Sikl1",
        "colab": {
          "base_uri": "https://localhost:8080/",
          "height": 279
        },
        "outputId": "0ca24cb8-2de1-4e5e-9c2f-5a21dc2b7268"
      },
      "source": [
        "# scatter plot\n",
        "plt.scatter(x[0:50,0], x[0:50,1], color='red', marker='o', label='setosa')\n",
        "plt.scatter(x[50:100,0], x[50:100,1], color='blue', marker='x', label='versicolor')\n",
        "plt.plot(xx1, xx2, 'g--')\n",
        "plt.xlabel('Sepal length [cm]')\n",
        "plt.ylabel('Petal length [cm]')\n",
        "plt.legend(loc='upper left')\n",
        "plt.grid()\n",
        "plt.show()"
      ],
      "execution_count": null,
      "outputs": [
        {
          "output_type": "display_data",
          "data": {
            "image/png": "[encoded data removed]",
            "text/plain": [
              "<Figure size 432x288 with 1 Axes>"
            ]
          },
          "metadata": {
            "tags": [],
            "needs_background": "light"
          }
        }
      ]
    },
    {
      "cell_type": "code",
      "metadata": {
        "id": "DURc4bbpPYHY",
        "colab": {
          "base_uri": "https://localhost:8080/"
        },
        "outputId": "6b1d4b5b-9276-45c8-b9ce-3f877cd74618"
      },
      "source": [
        "#print(pred==1)\n",
        "pred = p.predict(x_test[0])\n",
        "print(pred)\n",
        "error = sum(y_test - pred)/len(y_test)*100\n",
        "print('Error = %2.2f %%'  %error)\n",
        "# print out training error, validation error, and testing error"
      ],
      "execution_count": null,
      "outputs": [
        {
          "output_type": "stream",
          "text": [
            "-1\n",
            "Error = 100.00 %\n"
          ],
          "name": "stdout"
        }
      ]
    }
  ]
}