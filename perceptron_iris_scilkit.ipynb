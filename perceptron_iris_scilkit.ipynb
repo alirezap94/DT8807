{
  "nbformat": 4,
  "nbformat_minor": 0,
  "metadata": {
    "colab": {
      "name": "perceptron_iris_scilkit.ipynb",
      "provenance": [],
      "collapsed_sections": [],
      "authorship_tag": "ABX9TyMb9B2tfAWeJMYopm9sdAYQ",
      "include_colab_link": true
    },
    "kernelspec": {
      "name": "python3",
      "display_name": "Python 3"
    }
  },
  "cells": [
    {
      "cell_type": "markdown",
      "metadata": {
        "id": "view-in-github",
        "colab_type": "text"
      },
      "source": [
        "<a href=\"https://colab.research.google.com/github/ibribr/DT8807/blob/master/perceptron_iris_scilkit.ipynb\" target=\"_parent\"><img src=\"https://colab.research.google.com/assets/colab-badge.svg\" alt=\"Open In Colab\"/></a>"
      ]
    },
    {
      "cell_type": "code",
      "metadata": {
        "id": "clE5wS-1-0XV"
      },
      "source": [
        "# implement a perceptron to classifiy iris using Scikit-Learn\n",
        "import numpy as np\n",
        "from sklearn import datasets\n",
        "import matplotlib.pyplot as plt\n",
        "from sklearn.linear_model import Perceptron\n",
        "from sklearn.preprocessing import StandardScaler"
      ],
      "execution_count": 1,
      "outputs": []
    },
    {
      "cell_type": "code",
      "metadata": {
        "id": "P1RPnyPEDlbC",
        "colab": {
          "base_uri": "https://localhost:8080/"
        },
        "outputId": "2c8694e6-1850-444f-d86b-bb03aa1c712b"
      },
      "source": [
        "iris = datasets.load_iris()\n",
        "x = iris.data[0:100,[2,3]]     # petal length and petal width\n",
        "y = iris.target[0:100]\n",
        "\n",
        "print(x[0:5,:])\n",
        "print('Class labels:', np.unique(y))\n",
        "labels = ['setosa', 'versicolor', 'virginica']\n",
        "\n",
        "# standarization \n",
        "sc = StandardScaler()\n",
        "sc.fit(x)   # to estimate mean and standard deviation\n",
        "xstd = sc.transform(x) \n",
        "x = xstd\n",
        "print(x[0:5,:])"
      ],
      "execution_count": 2,
      "outputs": [
        {
          "output_type": "stream",
          "text": [
            "[[1.4 0.2]\n",
            " [1.4 0.2]\n",
            " [1.3 0.2]\n",
            " [1.5 0.2]\n",
            " [1.4 0.2]]\n",
            "Class labels: [0 1]\n",
            "[[-1.01297765 -1.04211089]\n",
            " [-1.01297765 -1.04211089]\n",
            " [-1.08231219 -1.04211089]\n",
            " [-0.94364311 -1.04211089]\n",
            " [-1.01297765 -1.04211089]]\n"
          ],
          "name": "stdout"
        }
      ]
    },
    {
      "cell_type": "code",
      "metadata": {
        "id": "sf15Sl8MKkWO",
        "colab": {
          "base_uri": "https://localhost:8080/",
          "height": 51
        },
        "outputId": "ab061ceb-7a6a-4562-97a5-9cb1eca27f92"
      },
      "source": [
        "# import a model\n",
        "#!pip install ....\n",
        "model = Perceptron(max_iter=100, eta0=0.01, random_state=1)\n",
        "model.fit(x, y)\n",
        "y_pred=model.predict(x)\n",
        "\n",
        "print(model.coef_, model.intercept_)\n",
        "\n",
        "error=np.mean((y-y_pred)**2)\n",
        "print(error)"
      ],
      "execution_count": null,
      "outputs": [
        {
          "output_type": "stream",
          "text": [
            "[[0.01664029 0.00711338]] [0.]\n",
            "0.0\n"
          ],
          "name": "stdout"
        }
      ]
    },
    {
      "cell_type": "code",
      "metadata": {
        "id": "3c3lYdwFTGY_",
        "colab": {
          "base_uri": "https://localhost:8080/",
          "height": 279
        },
        "outputId": "3afeef8d-6def-4d12-9680-06c85a9b794a"
      },
      "source": [
        "#plot decision line\n",
        "plt.scatter(x[y==0,0],x[y==0,1], color='red', marker='o',label=labels[0])\n",
        "plt.scatter(x[y==1,0],x[y==1,1], color='blue', marker='+',label=labels[1])\n",
        "\n",
        "xx = np.arange(x[:,0].min(),x[:,0].max(),0.1)\n",
        "yy = -model.coef_[0,0]/model.coef_[0,1] * xx - model.intercept_/model.coef_[0,1]\n",
        "plt.plot(xx,yy,'g-')\n",
        "plt.xlabel('petal length [cm]')\n",
        "plt.ylabel('petal width [cm]')\n",
        "plt.grid()\n",
        "plt.show()"
      ],
      "execution_count": null,
      "outputs": [
        {
          "output_type": "display_data",
          "data": {
            "image/png": "[encoded data removed]",
            "text/plain": [
              "<Figure size 432x288 with 1 Axes>"
            ]
          },
          "metadata": {
            "tags": [],
            "needs_background": "light"
          }
        }
      ]
    },
    {
      "cell_type": "code",
      "metadata": {
        "id": "8SZpS_laUvu0"
      },
      "source": [
        "# Another way for plotting the decision line/region\n",
        "def plot_decision_region(x, y):\n",
        "  x1 = np.arange(x[:,0].min()-1, x[:,0].max()+1,0.1)\n",
        "  x2 = np.arange(x[:,1].min()-1,x[:,1].max()+1, 0.1) \n",
        "\n",
        "  xg1, xg2 = np.meshgrid(x1, x2)\n",
        "\n",
        "  #print(xg2.flatten().T) # ravel()/flatten() returns a flattened one-dimensional array\n",
        "  z = model.predict(np.array([xg1.ravel(), xg2.ravel()]).T)\n",
        "\n",
        "  plt.contourf(xg1, xg2, z.reshape(xg1.shape))\n",
        "\n",
        "  #plot the scatter plot of the dataset\n",
        "  plt.scatter(x[y==0,0],x[y==0,1],color='yellow', marker='o' )\n",
        "  plt.scatter(x[y==1,0],x[y==1,1],color='black', marker='d')\n",
        "  plt.xlabel('x1')\n",
        "  plt.ylabel('x2')\n",
        "  plt.show()"
      ],
      "execution_count": null,
      "outputs": []
    },
    {
      "cell_type": "code",
      "metadata": {
        "id": "JbosBHjMhUpP",
        "colab": {
          "base_uri": "https://localhost:8080/",
          "height": 279
        },
        "outputId": "c860bbec-36e5-4112-c78e-c39e101cfddd"
      },
      "source": [
        "plot_decision_region(x,y)"
      ],
      "execution_count": null,
      "outputs": [
        {
          "output_type": "display_data",
          "data": {
            "image/png": "[encoded data removed]",
            "text/plain": [
              "<Figure size 432x288 with 1 Axes>"
            ]
          },
          "metadata": {
            "tags": [],
            "needs_background": "light"
          }
        }
      ]
    },
    {
      "cell_type": "code",
      "metadata": {
        "id": "OwRW8n5gjp0X",
        "colab": {
          "base_uri": "https://localhost:8080/",
          "height": 102
        },
        "outputId": "9b448879-22bf-4380-da83-adcda8799ccf"
      },
      "source": [
        "# split the dataset into training and testing sets using (train_test_split) function\n",
        "# this function shuffels the training sets internally before splitting\n",
        "from sklearn.model_selection import train_test_split\n",
        "\n",
        "xtarin, xtest, ytrain, ytest = train_test_split(x, y, test_size=0.3, random_state=1)\n",
        "print(ytest)\n",
        "print('proportion of class labels in train and test sets:\\n',np.bincount(ytrain), np.bincount(ytest))\n",
        "#stratify: to have the same proportional of class labels in both training and testing sets (balanced sets)\n",
        "xtarin, xtest, ytrain, ytest = train_test_split(x, y, test_size=0.3, random_state=1, stratify=y)\n",
        "print('proportion of class labels in train and test sets:\\n',np.bincount(ytrain), np.bincount(ytest))\n"
      ],
      "execution_count": null,
      "outputs": [
        {
          "output_type": "stream",
          "text": [
            "[1 1 0 1 1 0 0 1 1 1 1 0 1 1 1 0 0 0 1 0 0 1 1 1 0 0 1 0 0 0]\n",
            "proportion of class labels in train and test sets:\n",
            " [36 34] [14 16]\n",
            "proportion of class labels in train and test sets:\n",
            " [35 35] [15 15]\n"
          ],
          "name": "stdout"
        }
      ]
    }
  ]
}